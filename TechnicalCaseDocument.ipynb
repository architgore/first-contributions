{
  "nbformat": 4,
  "nbformat_minor": 0,
  "metadata": {
    "colab": {
      "provenance": [],
      "authorship_tag": "ABX9TyNf2imNJSyN+1qKspniFR9U",
      "include_colab_link": true
    },
    "kernelspec": {
      "name": "python3",
      "display_name": "Python 3"
    },
    "language_info": {
      "name": "python"
    }
  },
  "cells": [
    {
      "cell_type": "markdown",
      "metadata": {
        "id": "view-in-github",
        "colab_type": "text"
      },
      "source": [
        "<a href=\"https://colab.research.google.com/github/architgore/first-contributions/blob/main/TechnicalCaseDocument.ipynb\" target=\"_parent\"><img src=\"https://colab.research.google.com/assets/colab-badge.svg\" alt=\"Open In Colab\"/></a>"
      ]
    },
    {
      "cell_type": "markdown",
      "source": [
        "# Loan Approval and Revenue Optimization Analysis"
      ],
      "metadata": {
        "id": "UUwh47rIF1rB"
      }
    },
    {
      "cell_type": "code",
      "execution_count": 2,
      "metadata": {
        "id": "lpDq2ZIGBHw6"
      },
      "outputs": [],
      "source": [
        "import pandas as pd\n",
        "import seaborn as sns\n",
        "import matplotlib.pyplot as plt\n",
        "import numpy as np\n",
        "from sklearn.model_selection import train_test_split\n",
        "from sklearn.ensemble import RandomForestClassifier\n",
        "from sklearn.metrics import classification_report\n",
        "from scipy.stats import ttest_ind, chi2_contingency\n"
      ]
    },
    {
      "cell_type": "code",
      "source": [
        "# Load the dataset\n",
        "file_path = '/content/Pre-Super_Day_candidate_dataset__28candidate_29.xlsx'\n",
        "df = pd.read_excel(file_path)\n",
        "df.head()"
      ],
      "metadata": {
        "colab": {
          "base_uri": "https://localhost:8080/",
          "height": 347
        },
        "id": "lBVKpVrVEuUK",
        "outputId": "fc4d7306-c7aa-4f8d-9ea7-4dd2a892613f"
      },
      "execution_count": 7,
      "outputs": [
        {
          "output_type": "error",
          "ename": "BadZipFile",
          "evalue": "File is not a zip file",
          "traceback": [
            "\u001b[0;31m---------------------------------------------------------------------------\u001b[0m",
            "\u001b[0;31mBadZipFile\u001b[0m                                Traceback (most recent call last)",
            "\u001b[0;32m<ipython-input-7-45f29705894a>\u001b[0m in \u001b[0;36m<cell line: 3>\u001b[0;34m()\u001b[0m\n\u001b[1;32m      1\u001b[0m \u001b[0;31m# Load the dataset\u001b[0m\u001b[0;34m\u001b[0m\u001b[0;34m\u001b[0m\u001b[0m\n\u001b[1;32m      2\u001b[0m \u001b[0mfile_path\u001b[0m \u001b[0;34m=\u001b[0m \u001b[0;34m'/content/Pre-Super_Day_candidate_dataset__28candidate_29.xlsx'\u001b[0m\u001b[0;34m\u001b[0m\u001b[0;34m\u001b[0m\u001b[0m\n\u001b[0;32m----> 3\u001b[0;31m \u001b[0mdf\u001b[0m \u001b[0;34m=\u001b[0m \u001b[0mpd\u001b[0m\u001b[0;34m.\u001b[0m\u001b[0mread_excel\u001b[0m\u001b[0;34m(\u001b[0m\u001b[0mfile_path\u001b[0m\u001b[0;34m)\u001b[0m\u001b[0;34m\u001b[0m\u001b[0;34m\u001b[0m\u001b[0m\n\u001b[0m\u001b[1;32m      4\u001b[0m \u001b[0mdf\u001b[0m\u001b[0;34m.\u001b[0m\u001b[0mhead\u001b[0m\u001b[0;34m(\u001b[0m\u001b[0;34m)\u001b[0m\u001b[0;34m\u001b[0m\u001b[0;34m\u001b[0m\u001b[0m\n",
            "\u001b[0;32m/usr/local/lib/python3.10/dist-packages/pandas/io/excel/_base.py\u001b[0m in \u001b[0;36mread_excel\u001b[0;34m(io, sheet_name, header, names, index_col, usecols, dtype, engine, converters, true_values, false_values, skiprows, nrows, na_values, keep_default_na, na_filter, verbose, parse_dates, date_parser, date_format, thousands, decimal, comment, skipfooter, storage_options, dtype_backend, engine_kwargs)\u001b[0m\n\u001b[1;32m    493\u001b[0m     \u001b[0;32mif\u001b[0m \u001b[0;32mnot\u001b[0m \u001b[0misinstance\u001b[0m\u001b[0;34m(\u001b[0m\u001b[0mio\u001b[0m\u001b[0;34m,\u001b[0m \u001b[0mExcelFile\u001b[0m\u001b[0;34m)\u001b[0m\u001b[0;34m:\u001b[0m\u001b[0;34m\u001b[0m\u001b[0;34m\u001b[0m\u001b[0m\n\u001b[1;32m    494\u001b[0m         \u001b[0mshould_close\u001b[0m \u001b[0;34m=\u001b[0m \u001b[0;32mTrue\u001b[0m\u001b[0;34m\u001b[0m\u001b[0;34m\u001b[0m\u001b[0m\n\u001b[0;32m--> 495\u001b[0;31m         io = ExcelFile(\n\u001b[0m\u001b[1;32m    496\u001b[0m             \u001b[0mio\u001b[0m\u001b[0;34m,\u001b[0m\u001b[0;34m\u001b[0m\u001b[0;34m\u001b[0m\u001b[0m\n\u001b[1;32m    497\u001b[0m             \u001b[0mstorage_options\u001b[0m\u001b[0;34m=\u001b[0m\u001b[0mstorage_options\u001b[0m\u001b[0;34m,\u001b[0m\u001b[0;34m\u001b[0m\u001b[0;34m\u001b[0m\u001b[0m\n",
            "\u001b[0;32m/usr/local/lib/python3.10/dist-packages/pandas/io/excel/_base.py\u001b[0m in \u001b[0;36m__init__\u001b[0;34m(self, path_or_buffer, engine, storage_options, engine_kwargs)\u001b[0m\n\u001b[1;32m   1548\u001b[0m                 \u001b[0mext\u001b[0m \u001b[0;34m=\u001b[0m \u001b[0;34m\"xls\"\u001b[0m\u001b[0;34m\u001b[0m\u001b[0;34m\u001b[0m\u001b[0m\n\u001b[1;32m   1549\u001b[0m             \u001b[0;32melse\u001b[0m\u001b[0;34m:\u001b[0m\u001b[0;34m\u001b[0m\u001b[0;34m\u001b[0m\u001b[0m\n\u001b[0;32m-> 1550\u001b[0;31m                 ext = inspect_excel_format(\n\u001b[0m\u001b[1;32m   1551\u001b[0m                     \u001b[0mcontent_or_path\u001b[0m\u001b[0;34m=\u001b[0m\u001b[0mpath_or_buffer\u001b[0m\u001b[0;34m,\u001b[0m \u001b[0mstorage_options\u001b[0m\u001b[0;34m=\u001b[0m\u001b[0mstorage_options\u001b[0m\u001b[0;34m\u001b[0m\u001b[0;34m\u001b[0m\u001b[0m\n\u001b[1;32m   1552\u001b[0m                 )\n",
            "\u001b[0;32m/usr/local/lib/python3.10/dist-packages/pandas/io/excel/_base.py\u001b[0m in \u001b[0;36minspect_excel_format\u001b[0;34m(content_or_path, storage_options)\u001b[0m\n\u001b[1;32m   1417\u001b[0m             \u001b[0;32mreturn\u001b[0m \u001b[0;32mNone\u001b[0m\u001b[0;34m\u001b[0m\u001b[0;34m\u001b[0m\u001b[0m\n\u001b[1;32m   1418\u001b[0m \u001b[0;34m\u001b[0m\u001b[0m\n\u001b[0;32m-> 1419\u001b[0;31m         \u001b[0;32mwith\u001b[0m \u001b[0mzipfile\u001b[0m\u001b[0;34m.\u001b[0m\u001b[0mZipFile\u001b[0m\u001b[0;34m(\u001b[0m\u001b[0mstream\u001b[0m\u001b[0;34m)\u001b[0m \u001b[0;32mas\u001b[0m \u001b[0mzf\u001b[0m\u001b[0;34m:\u001b[0m\u001b[0;34m\u001b[0m\u001b[0;34m\u001b[0m\u001b[0m\n\u001b[0m\u001b[1;32m   1420\u001b[0m             \u001b[0;31m# Workaround for some third party files that use forward slashes and\u001b[0m\u001b[0;34m\u001b[0m\u001b[0;34m\u001b[0m\u001b[0m\n\u001b[1;32m   1421\u001b[0m             \u001b[0;31m# lower case names.\u001b[0m\u001b[0;34m\u001b[0m\u001b[0;34m\u001b[0m\u001b[0m\n",
            "\u001b[0;32m/usr/lib/python3.10/zipfile.py\u001b[0m in \u001b[0;36m__init__\u001b[0;34m(self, file, mode, compression, allowZip64, compresslevel, strict_timestamps)\u001b[0m\n\u001b[1;32m   1270\u001b[0m         \u001b[0;32mtry\u001b[0m\u001b[0;34m:\u001b[0m\u001b[0;34m\u001b[0m\u001b[0;34m\u001b[0m\u001b[0m\n\u001b[1;32m   1271\u001b[0m             \u001b[0;32mif\u001b[0m \u001b[0mmode\u001b[0m \u001b[0;34m==\u001b[0m \u001b[0;34m'r'\u001b[0m\u001b[0;34m:\u001b[0m\u001b[0;34m\u001b[0m\u001b[0;34m\u001b[0m\u001b[0m\n\u001b[0;32m-> 1272\u001b[0;31m                 \u001b[0mself\u001b[0m\u001b[0;34m.\u001b[0m\u001b[0m_RealGetContents\u001b[0m\u001b[0;34m(\u001b[0m\u001b[0;34m)\u001b[0m\u001b[0;34m\u001b[0m\u001b[0;34m\u001b[0m\u001b[0m\n\u001b[0m\u001b[1;32m   1273\u001b[0m             \u001b[0;32melif\u001b[0m \u001b[0mmode\u001b[0m \u001b[0;32min\u001b[0m \u001b[0;34m(\u001b[0m\u001b[0;34m'w'\u001b[0m\u001b[0;34m,\u001b[0m \u001b[0;34m'x'\u001b[0m\u001b[0;34m)\u001b[0m\u001b[0;34m:\u001b[0m\u001b[0;34m\u001b[0m\u001b[0;34m\u001b[0m\u001b[0m\n\u001b[1;32m   1274\u001b[0m                 \u001b[0;31m# set the modified flag so central directory gets written\u001b[0m\u001b[0;34m\u001b[0m\u001b[0;34m\u001b[0m\u001b[0m\n",
            "\u001b[0;32m/usr/lib/python3.10/zipfile.py\u001b[0m in \u001b[0;36m_RealGetContents\u001b[0;34m(self)\u001b[0m\n\u001b[1;32m   1337\u001b[0m             \u001b[0;32mraise\u001b[0m \u001b[0mBadZipFile\u001b[0m\u001b[0;34m(\u001b[0m\u001b[0;34m\"File is not a zip file\"\u001b[0m\u001b[0;34m)\u001b[0m\u001b[0;34m\u001b[0m\u001b[0;34m\u001b[0m\u001b[0m\n\u001b[1;32m   1338\u001b[0m         \u001b[0;32mif\u001b[0m \u001b[0;32mnot\u001b[0m \u001b[0mendrec\u001b[0m\u001b[0;34m:\u001b[0m\u001b[0;34m\u001b[0m\u001b[0;34m\u001b[0m\u001b[0m\n\u001b[0;32m-> 1339\u001b[0;31m             \u001b[0;32mraise\u001b[0m \u001b[0mBadZipFile\u001b[0m\u001b[0;34m(\u001b[0m\u001b[0;34m\"File is not a zip file\"\u001b[0m\u001b[0;34m)\u001b[0m\u001b[0;34m\u001b[0m\u001b[0;34m\u001b[0m\u001b[0m\n\u001b[0m\u001b[1;32m   1340\u001b[0m         \u001b[0;32mif\u001b[0m \u001b[0mself\u001b[0m\u001b[0;34m.\u001b[0m\u001b[0mdebug\u001b[0m \u001b[0;34m>\u001b[0m \u001b[0;36m1\u001b[0m\u001b[0;34m:\u001b[0m\u001b[0;34m\u001b[0m\u001b[0;34m\u001b[0m\u001b[0m\n\u001b[1;32m   1341\u001b[0m             \u001b[0mprint\u001b[0m\u001b[0;34m(\u001b[0m\u001b[0mendrec\u001b[0m\u001b[0;34m)\u001b[0m\u001b[0;34m\u001b[0m\u001b[0;34m\u001b[0m\u001b[0m\n",
            "\u001b[0;31mBadZipFile\u001b[0m: File is not a zip file"
          ]
        }
      ]
    },
    {
      "cell_type": "code",
      "source": [
        "# View data types and basic information\n",
        "print(df.info())\n",
        "\n",
        "# Display summary statistics\n",
        "print(df.describe())"
      ],
      "metadata": {
        "id": "XEzL6V25GhNI"
      },
      "execution_count": null,
      "outputs": []
    },
    {
      "cell_type": "markdown",
      "source": [
        "### **1: Exploring the variables relationship with approvability**\n",
        "\n",
        "### Objective:\n",
        "Identify which variables most influence whether a customer is approved or denied."
      ],
      "metadata": {
        "id": "-p02eXhsFMJ7"
      }
    },
    {
      "cell_type": "markdown",
      "source": [
        "### 1. Loan Amount vs Approval Status"
      ],
      "metadata": {
        "id": "_34XoyrOMIcm"
      }
    },
    {
      "cell_type": "code",
      "source": [
        "plt.figure(figsize=(10, 6))\n",
        "box = sns.boxplot(x='Approved', y='Loan_Amount', data=df, palette='coolwarm')\n",
        "\n",
        "plt.title(\"Loan Amount vs Approval Status\", fontsize=16)\n",
        "plt.xlabel(\"Approval Status (0 = Denied, 1 = Approved)\", fontsize=12)\n",
        "plt.ylabel(\"Loan Amount\", fontsize=12)\n",
        "\n",
        "for i, category in enumerate(df['Approved'].unique()):\n",
        "    group_data = df[df['Approved'] == category]['Loan_Amount']\n",
        "\n",
        "    Q1 = group_data.quantile(0.25)\n",
        "    median = group_data.median()\n",
        "    Q3 = group_data.quantile(0.75)\n",
        "\n",
        "    plt.text(i, Q1, f\"Q1\\n{Q1:.0f}\", ha='center', va='center', color='black', fontsize=10)\n",
        "    plt.text(i, median, f\"Median\\n{median:.0f}\", ha='center', va='center', color='white', fontsize=10, bbox=dict(facecolor='blue', alpha=0.5))\n",
        "    plt.text(i, Q3, f\"Q3\\n{Q3:.0f}\", ha='center', va='center', color='black', fontsize=10)\n",
        "\n",
        "plt.show()\n"
      ],
      "metadata": {
        "id": "DsByIIJpHnLK"
      },
      "execution_count": null,
      "outputs": []
    },
    {
      "cell_type": "markdown",
      "source": [
        "**Approved loans generally have lower loan amounts compared to denied loans.**"
      ],
      "metadata": {
        "id": "QLOFVHl3M0n_"
      }
    },
    {
      "cell_type": "markdown",
      "source": [
        "### 2. FICO Score vs Approval Status"
      ],
      "metadata": {
        "id": "yYlNBj9cMTqI"
      }
    },
    {
      "cell_type": "code",
      "source": [
        "plt.figure(figsize=(10, 6))\n",
        "box = sns.boxplot(x='Approved', y='FICO_score', data=df, palette='coolwarm')\n",
        "\n",
        "plt.title(\"FICO Score vs Approval Status\", fontsize=16)\n",
        "plt.xlabel(\"Approval Status (0 = Denied, 1 = Approved)\", fontsize=12)\n",
        "plt.ylabel(\"FICO Score\", fontsize=12)\n",
        "\n",
        "for i, category in enumerate(df['Approved'].unique()):\n",
        "\n",
        "    group_data = df[df['Approved'] == category]['FICO_score']\n",
        "    Q1 = group_data.quantile(0.25)\n",
        "    median = group_data.median()\n",
        "    Q3 = group_data.quantile(0.75)\n",
        "\n",
        "    plt.text(i, Q1, f\"Q1\\n{Q1:.0f}\", ha='center', va='center', color='black', fontsize=10)\n",
        "    plt.text(i, median, f\"Median\\n{median:.0f}\", ha='center', va='center', color='white', fontsize=10, bbox=dict(facecolor='blue', alpha=0.5))\n",
        "    plt.text(i, Q3, f\"Q3\\n{Q3:.0f}\", ha='center', va='center', color='black', fontsize=10)\n",
        "\n",
        "plt.show()\n"
      ],
      "metadata": {
        "id": "Nj1tEP0rM5Ck"
      },
      "execution_count": null,
      "outputs": []
    },
    {
      "cell_type": "markdown",
      "source": [
        "**Higher FICO scores are strongly associated with loan approvals.**"
      ],
      "metadata": {
        "id": "HgHp2xzuM8cT"
      }
    },
    {
      "cell_type": "markdown",
      "source": [
        "### 3. Monthly Gross Income vs Approval Status"
      ],
      "metadata": {
        "id": "EQ0gnbkZO2-D"
      }
    },
    {
      "cell_type": "code",
      "source": [
        "plt.figure(figsize=(10, 6))\n",
        "box = sns.boxplot(x='Approved', y='Monthly_Gross_Income', data=df, palette='coolwarm', showfliers=False)\n",
        "\n",
        "plt.title(\"Monthly Gross Income vs Approval Status\", fontsize=16)\n",
        "plt.xlabel(\"Approval Status (0 = Denied, 1 = Approved)\", fontsize=12)\n",
        "plt.ylabel(\"Monthly Gross Income\", fontsize=12)\n",
        "\n",
        "for i, category in enumerate(df['Approved'].unique()):\n",
        "    group_data = df[df['Approved'] == category]['Monthly_Gross_Income']\n",
        "    Q1 = group_data.quantile(0.25)\n",
        "    median = group_data.median()\n",
        "    Q3 = group_data.quantile(0.75)\n",
        "\n",
        "    plt.text(i, Q1, f\"Q1\\n{Q1:.0f}\", ha='center', va='center', color='black', fontsize=10)\n",
        "    plt.text(i, median, f\"Median\\n{median:.0f}\", ha='center', va='center', color='white', fontsize=10, bbox=dict(facecolor='blue', alpha=0.5))\n",
        "    plt.text(i, Q3, f\"Q3\\n{Q3:.0f}\", ha='center', va='center', color='black', fontsize=10)\n",
        "\n",
        "plt.show()\n",
        "\n"
      ],
      "metadata": {
        "id": "hS-5FAIWM-QQ"
      },
      "execution_count": null,
      "outputs": []
    },
    {
      "cell_type": "markdown",
      "source": [
        "**Approved applicants tend to have higher monthly incomes.**"
      ],
      "metadata": {
        "id": "pZmaLGniNBXl"
      }
    },
    {
      "cell_type": "markdown",
      "source": [
        "### 4. Employment Status vs Approval Status"
      ],
      "metadata": {
        "id": "lDgVOMegO7xq"
      }
    },
    {
      "cell_type": "code",
      "source": [
        "approval_data = df.groupby('Employment_Status')['Approved'].mean().reset_index()\n",
        "approval_data['Approval_Rate'] = approval_data['Approved'] * 100  # Convert to percentage\n",
        "\n",
        "plt.figure(figsize=(8, 6))\n",
        "sns.barplot(x='Employment_Status', y='Approval_Rate', data=approval_data, palette='coolwarm')\n",
        "plt.title(\"Approval Rate by Employment Status\", fontsize=16)\n",
        "plt.xlabel(\"Employment Status\", fontsize=12)\n",
        "plt.ylabel(\"Approval Rate (%)\", fontsize=12)\n",
        "plt.ylim(0, 20)\n",
        "plt.show()"
      ],
      "metadata": {
        "id": "xPRZ5p3jNbCD"
      },
      "execution_count": null,
      "outputs": []
    },
    {
      "cell_type": "markdown",
      "source": [
        "**Full-time employees have higher approval rates compared to part-time or unemployed applicants.**"
      ],
      "metadata": {
        "id": "PNrU_ArXNdhw"
      }
    },
    {
      "cell_type": "markdown",
      "source": [
        "### 5. FICO Score Group vs Approval Status"
      ],
      "metadata": {
        "id": "MJVoukZVPBHu"
      }
    },
    {
      "cell_type": "code",
      "source": [
        "fico_approval_data = df.groupby('Fico_Score_group')['Approved'].mean().reset_index()\n",
        "fico_approval_data['Approval_Rate'] = fico_approval_data['Approved'] * 100  # Convert to percentage\n",
        "\n",
        "fico_approval_data = fico_approval_data.sort_values(by='Approval_Rate', ascending=False)\n",
        "\n",
        "plt.figure(figsize=(8, 6))\n",
        "sns.barplot(x='Fico_Score_group', y='Approval_Rate', data=fico_approval_data, palette='coolwarm', order=fico_approval_data['Fico_Score_group'])\n",
        "plt.title(\"Approval Rate by FICO Score Group (Ordered by Approval %)\", fontsize=16)\n",
        "plt.xlabel(\"FICO Score Group\", fontsize=12)\n",
        "plt.ylabel(\"Approval Rate (%)\", fontsize=12)\n",
        "plt.ylim(0, 100)  # Ensure the y-axis is in percentage range\n",
        "plt.xticks(rotation=45)  # Rotate x-axis labels for better readability\n",
        "plt.show()\n"
      ],
      "metadata": {
        "id": "ktyJL_MrNiSa"
      },
      "execution_count": null,
      "outputs": []
    },
    {
      "cell_type": "markdown",
      "source": [
        "**Approval rates increase significantly for higher FICO score groups.**"
      ],
      "metadata": {
        "id": "1OI6zrS4NkoA"
      }
    },
    {
      "cell_type": "markdown",
      "source": [
        "### 6. Bankruptcy/Foreclosure History vs Approval Status"
      ],
      "metadata": {
        "id": "uxn2DASHPbXm"
      }
    },
    {
      "cell_type": "code",
      "source": [
        "bankruptcy_approval_data = df.groupby('Ever_Bankrupt_or_Foreclose')['Approved'].mean().reset_index()\n",
        "bankruptcy_approval_data['Approval_Rate'] = bankruptcy_approval_data['Approved'] * 100  # Convert to percentage\n",
        "bankruptcy_approval_data['Bankruptcy/Foreclosure History'] = bankruptcy_approval_data['Ever_Bankrupt_or_Foreclose'].map({0: 'No', 1: 'Yes'})\n",
        "\n",
        "\n",
        "plt.figure(figsize=(8, 6))\n",
        "sns.barplot(x='Bankruptcy/Foreclosure History', y='Approval_Rate', data=bankruptcy_approval_data, palette='coolwarm')\n",
        "plt.title(\"Approval Rate by Bankruptcy/Foreclosure History\", fontsize=16)\n",
        "plt.xlabel(\"Bankruptcy/Foreclosure History\", fontsize=12)\n",
        "plt.ylabel(\"Approval Rate (%)\", fontsize=12)\n",
        "plt.ylim(0, 20)\n",
        "plt.show()\n"
      ],
      "metadata": {
        "id": "ssZsuRh8QIhM"
      },
      "execution_count": null,
      "outputs": []
    },
    {
      "cell_type": "markdown",
      "source": [
        "**Applicants with no history of bankruptcy or foreclosure have a significantly higher approval rate ~11% compared to those with such a history ~4%, highlighting the importance of financial reliability in loan approvals.**"
      ],
      "metadata": {
        "id": "1mI-CGWCQ8v3"
      }
    },
    {
      "cell_type": "markdown",
      "source": [
        " ### 7. Employment Sector"
      ],
      "metadata": {
        "id": "q4UYTA38RfJO"
      }
    },
    {
      "cell_type": "code",
      "source": [
        "sns.countplot(y='Employment_Sector', hue='Approved', data=df, palette='coolwarm')\n",
        "plt.title(\"Employment Sector vs Approval Status\")\n",
        "plt.xlabel(\"Count\")\n",
        "plt.ylabel(\"Employment Sector\")\n",
        "plt.legend(title=\"Approval Status\", labels=[\"0 = Denied\", \"1 = Approved\"])\n",
        "plt.show()"
      ],
      "metadata": {
        "id": "REIFu5z-RkJ_"
      },
      "execution_count": null,
      "outputs": []
    },
    {
      "cell_type": "markdown",
      "source": [
        "**Approval rates vary significantly by employment sector, with Information Technology having the highest approvals compared to other sectors, while sectors like Consumer Staples and Information Technology have predominantly high denial rates.**"
      ],
      "metadata": {
        "id": "2vcjcNKoSI7X"
      }
    },
    {
      "cell_type": "markdown",
      "source": [
        " ### 8. Monthly Gross Income vs Approval Status"
      ],
      "metadata": {
        "id": "4LI6t5dOTso3"
      }
    },
    {
      "cell_type": "code",
      "source": [
        "plt.figure(figsize=(10, 6))\n",
        "box = sns.boxplot(x='Approved', y='Monthly_Gross_Income', data=df, palette='coolwarm', showfliers=False)\n",
        "\n",
        "plt.title(\"Monthly Gross Income vs Approval Status\", fontsize=16)\n",
        "plt.xlabel(\"Approval Status (0 = Denied, 1 = Approved)\", fontsize=12)\n",
        "plt.ylabel(\"Monthly Gross Income\", fontsize=12)\n",
        "\n",
        "for i, category in enumerate(df['Approved'].unique()):\n",
        "    group_data = df[df['Approved'] == category]['Monthly_Gross_Income']\n",
        "\n",
        "    Q1 = group_data.quantile(0.25)\n",
        "    median = group_data.median()\n",
        "    Q3 = group_data.quantile(0.75)\n",
        "\n",
        "    plt.text(i, Q1, f\"Q1\\n{Q1:.0f}\", ha='center', va='center', color='black', fontsize=10)\n",
        "    plt.text(i, Q3, f\"Q3\\n{Q3:.0f}\", ha='center', va='center', color='black', fontsize=10)\n",
        "\n",
        "    plt.text(i, median, f\"Median\\n{median:.0f}\", ha='center', va='center', color='white', fontsize=10,\n",
        "             bbox=dict(facecolor='blue', alpha=0.5, edgecolor='black'))\n",
        "\n",
        "plt.show()\n"
      ],
      "metadata": {
        "id": "wqcm_srXT1NZ"
      },
      "execution_count": null,
      "outputs": []
    },
    {
      "cell_type": "markdown",
      "source": [
        "**Applicants with higher monthly gross incomes are more likely to be approved.**"
      ],
      "metadata": {
        "id": "kGkg4CmUT54x"
      }
    },
    {
      "cell_type": "markdown",
      "source": [
        " ### 8. Monthly Housing Payment vs Approval Status"
      ],
      "metadata": {
        "id": "mqpbmWStT_La"
      }
    },
    {
      "cell_type": "code",
      "source": [
        "plt.figure(figsize=(10, 6))\n",
        "box = sns.boxplot(x='Approved', y='Monthly_Housing_Payment', data=df, palette='coolwarm', showfliers=False)\n",
        "\n",
        "plt.title(\"Monthly Housing Payment vs Approval Status\", fontsize=16)\n",
        "plt.xlabel(\"Approval Status (0 = Denied, 1 = Approved)\", fontsize=12)\n",
        "plt.ylabel(\"Monthly Housing Payment\", fontsize=12)\n",
        "\n",
        "for i, category in enumerate(df['Approved'].unique()):\n",
        "    group_data = df[df['Approved'] == category]['Monthly_Housing_Payment']\n",
        "\n",
        "    Q1 = group_data.quantile(0.25)\n",
        "    median = group_data.median()\n",
        "    Q3 = group_data.quantile(0.75)\n",
        "\n",
        "    plt.text(i, Q1, f\"Q1\\n{Q1:.0f}\", ha='center', va='center', color='black', fontsize=10)\n",
        "    plt.text(i, Q3, f\"Q3\\n{Q3:.0f}\", ha='center', va='center', color='black', fontsize=10)\n",
        "    plt.text(i, median, f\"Median\\n{median:.0f}\", ha='center', va='center', color='white', fontsize=10,\n",
        "             bbox=dict(facecolor='blue', alpha=0.5, edgecolor='black'))\n",
        "\n",
        "plt.show()\n"
      ],
      "metadata": {
        "id": "-vctB8jBUCrT"
      },
      "execution_count": null,
      "outputs": []
    },
    {
      "cell_type": "markdown",
      "source": [
        "**Applicants with higher monthly housing payments are slightly more likely to be denied.**"
      ],
      "metadata": {
        "id": "NL1ZN7ISULMT"
      }
    },
    {
      "cell_type": "markdown",
      "source": [
        "## Best and Worst Variables for Loan Approval\n",
        "\n",
        "### **Best Variables**\n",
        "1. **FICO Score**:\n",
        "   - **Why:** Clear, strong correlation with approval rates. Higher scores (e.g., \"Good,\" \"Very Good,\" \"Excellent\") lead to significantly higher approval rates.\n",
        "   - **Insight:** A crucial predictor of creditworthiness and risk.\n",
        "\n",
        "2. **Loan Amount**:\n",
        "   - **Why:** Smaller loan amounts are far more likely to be approved, while larger loans face higher denial rates.\n",
        "   - **Insight:** Reflects the lender's risk tolerance and financial considerations.\n",
        "\n",
        "3. **Monthly Gross Income**:\n",
        "   - **Why:** Higher-income applicants are consistently approved more often, reflecting stronger repayment ability.\n",
        "   - **Insight:** A critical measure of financial capacity.\n",
        "\n",
        "4. **Bankruptcy/Foreclosure History**:\n",
        "   - **Why:** A clean financial history dramatically increases approval chances, while a history of bankruptcy/foreclosure almost guarantees denial.\n",
        "   - **Insight:** A major factor in assessing financial reliability.\n",
        "\n",
        "---\n",
        "\n",
        "### **Worst Variables**\n",
        "1. **Employment Sector**:\n",
        "   - **Why:** Approval rates do not show clear or consistent patterns across sectors; high variability makes it less predictive.\n",
        "   - **Insight:** Adds minimal value compared to other variables.\n",
        "\n",
        "2. **Loan Purpose (Reason)**:\n",
        "   - **Why:** No strong trends in approval rates by purpose; most purposes have similar patterns.\n",
        "   - **Insight:** Less relevant to lenders' decision-making processes.\n",
        "\n",
        "3. **Applications Count (`applications`)**:\n",
        "   - **Why:** The dataset is dominated by single applications, offering little predictive or explanatory power.\n",
        "   - **Insight:** Not a meaningful indicator of approval likelihood.\n",
        "\n",
        "4. **Monthly Housing Payment**:\n",
        "   - **Why:** While higher payments are slightly associated with approvals, the overlap between approved and denied groups reduces its standalone predictive value.\n",
        "   - **Insight:** Better analyzed in combination with income (e.g., Debt-to-Income Ratio).\n",
        "\n",
        "---\n",
        "\n",
        "### **Summary**\n",
        "Focus on high-impact variables like **FICO Score**, **Loan Amount**, **Income**, and **Bankruptcy/Foreclosure History**, while deprioritizing less informative variables like **Employment Sector**, **Loan Purpose**, and **Applications Count**.\n"
      ],
      "metadata": {
        "id": "4DgXr4wBVoHM"
      }
    },
    {
      "cell_type": "markdown",
      "source": [
        "### **Feature Transformations to Improve Predictive Power**"
      ],
      "metadata": {
        "id": "YYICLTmhWhDE"
      }
    },
    {
      "cell_type": "markdown",
      "source": [
        "### Debt-to-Income Ratio\n",
        "\n",
        "**What:** Combine `Monthly_Housing_Payment` and `Monthly_Gross_Income` to create the Debt-to-Income Ratio:\n",
        "\n",
        "**Why:** This feature provides a clearer measure of an applicant's financial capacity by balancing income and expenses.\n",
        "\n",
        "**Impact:** Captures affordability, making it a more precise predictor of loan approval than analyzing income or housing payment alone.\n"
      ],
      "metadata": {
        "id": "qG_FI6J4W5Z-"
      }
    },
    {
      "cell_type": "code",
      "source": [
        "# Creating the Debt-to-Income Ratio feature\n",
        "df['Debt_to_Income'] = df['Monthly_Housing_Payment'] / df['Monthly_Gross_Income']\n",
        "\n",
        "# Display the first few rows to confirm the calculation\n",
        "df[['Monthly_Housing_Payment', 'Monthly_Gross_Income', 'Debt_to_Income']].head()\n",
        "\n",
        "# Compare debt to income with approvability"
      ],
      "metadata": {
        "id": "N4UPsAPLW-W4"
      },
      "execution_count": null,
      "outputs": []
    },
    {
      "cell_type": "markdown",
      "source": [
        "### Loan-to-Income Ratio\n",
        "\n",
        "**What:** Calculate the proportion of the loan amount to the applicant's monthly income:\n",
        "\n",
        "**Why:** This feature contextualizes the loan amount relative to income, helping to assess whether the requested loan is reasonable for the applicant's financial capacity.\n",
        "\n",
        "**Impact:** Enhances the predictive value of the loan amount by incorporating the applicant's income, making it a strong indicator of loan approval likelihood.\n"
      ],
      "metadata": {
        "id": "p1C2BlfvYdGz"
      }
    },
    {
      "cell_type": "code",
      "source": [
        "# Creating the Loan-to-Income Ratio feature\n",
        "df['Loan_to_Income'] = df['Loan_Amount'] / df['Monthly_Gross_Income']\n",
        "\n",
        "# Display the first few rows to confirm the calculation\n",
        "df[['Loan_Amount', 'Monthly_Gross_Income', 'Loan_to_Income']].head()\n",
        "\n",
        "# compare loan to income with approvability"
      ],
      "metadata": {
        "id": "ywt-eErVYmI5"
      },
      "execution_count": null,
      "outputs": []
    },
    {
      "cell_type": "markdown",
      "source": [
        "### **2: Lender Approval Rates**\n",
        "\n",
        "**Objective:** Calculate the average approval rate for each lender and identify variations.\n"
      ],
      "metadata": {
        "id": "43nKR6L_Z-L4"
      }
    },
    {
      "cell_type": "code",
      "source": [
        "lender_approval_rates = df.groupby('Lender')['Approved'].mean().reset_index()\n",
        "lender_approval_rates['Approval_Rate_Percentage'] = lender_approval_rates['Approved'] * 100\n",
        "\n",
        "lender_approval_rates = lender_approval_rates.sort_values(by='Approval_Rate_Percentage', ascending=False)\n",
        "print(\"Lender Approval Rates (Percentage):\")\n",
        "print(lender_approval_rates)\n",
        "\n",
        "plt.figure(figsize=(10, 6))\n",
        "sns.barplot(x='Lender', y='Approval_Rate_Percentage', data=lender_approval_rates, palette='coolwarm')\n",
        "plt.title(\"Average Approval Rate by Lender (%)\", fontsize=16)\n",
        "plt.xlabel(\"Lender\", fontsize=12)\n",
        "plt.ylabel(\"Approval Rate (%)\", fontsize=12)\n",
        "plt.ylim(0, 20)\n",
        "plt.xticks(rotation=45)\n",
        "plt.show()\n"
      ],
      "metadata": {
        "id": "qzWbf2HYa-JC"
      },
      "execution_count": null,
      "outputs": []
    },
    {
      "cell_type": "markdown",
      "source": [
        "### Analyzing Lender-Specific Approval Patterns\n",
        "\n",
        "**Objective:**\n",
        "1. Identify clear differences between the three lenders regarding the types of customers they approve.\n",
        "2. Determine if there are variables that reliably predict a user's likelihood of approval for a specific lender.\n",
        "\n",
        "**Key Variables Analyzed:**\n",
        "- FICO Score\n",
        "- Loan Amount\n",
        "- Monthly Gross Income\n",
        "- Employment Status"
      ],
      "metadata": {
        "id": "vRJnP9YAcGMh"
      }
    },
    {
      "cell_type": "code",
      "source": [
        "plt.figure(figsize=(10, 6))\n",
        "bar_plot = sns.barplot(x='Lender', y='FICO_score', hue='Approved', data=fico_by_lender, palette='coolwarm')\n",
        "\n",
        "legend_labels = ['Denied (0)', 'Approved (1)']\n",
        "handles, _ = bar_plot.get_legend_handles_labels()\n",
        "plt.legend(handles, legend_labels, title=\"Approval Status\")\n",
        "\n",
        "plt.title(\"FICO Score by Approval Status for Each Lender\")\n",
        "plt.xlabel(\"Lender\")\n",
        "plt.ylabel(\"Average FICO Score\")\n",
        "plt.show()"
      ],
      "metadata": {
        "id": "0603htltcJ7l"
      },
      "execution_count": null,
      "outputs": []
    },
    {
      "cell_type": "code",
      "source": [
        "# Visualizing differences for Monthly Gross Income\n",
        "plt.figure(figsize=(8, 6))\n",
        "sns.barplot(x='Lender', y='Monthly_Gross_Income', data=lender_comparison, palette='coolwarm')\n",
        "plt.title(\"Average Monthly Gross Income of Approved Customers by Lender\")\n",
        "plt.xlabel(\"Lender\")\n",
        "plt.ylabel(\"Average Monthly Gross Income\")\n",
        "plt.show()"
      ],
      "metadata": {
        "id": "i7kepkOxtc25"
      },
      "execution_count": null,
      "outputs": []
    },
    {
      "cell_type": "code",
      "source": [
        "# Visualizing differences for Loan Amount\n",
        "plt.figure(figsize=(8, 6))\n",
        "sns.barplot(x='Lender', y='Loan_Amount', data=lender_comparison, palette='coolwarm')\n",
        "plt.title(\"Average Loan Amount of Approved Customers by Lender\")\n",
        "plt.xlabel(\"Lender\")\n",
        "plt.ylabel(\"Average Loan Amount\")\n",
        "plt.show()"
      ],
      "metadata": {
        "id": "3mGxJx6-tVjC"
      },
      "execution_count": null,
      "outputs": []
    },
    {
      "cell_type": "code",
      "source": [
        "# Visualizing differences for FICO Score\n",
        "plt.figure(figsize=(8, 6))\n",
        "sns.barplot(x='Lender', y='FICO_score', data=lender_comparison, palette='coolwarm')\n",
        "plt.title(\"Average FICO Score of Approved Customers by Lender\")\n",
        "plt.xlabel(\"Lender\")\n",
        "plt.ylabel(\"Average FICO Score\")\n",
        "plt.show()"
      ],
      "metadata": {
        "id": "3Rg21kNmtj5t"
      },
      "execution_count": null,
      "outputs": []
    },
    {
      "cell_type": "markdown",
      "source": [
        "### Summary of Insights\n",
        "\n",
        "1. **Differences Between Lenders:**\n",
        "   - **FICO Score:** Lender A approves customers with higher FICO scores (average ~700), while Lender C approves customers with scores as low as ~640, indicating differences in risk tolerance.\n",
        "   - **Loan Amount:** Lender C favors smaller loans, while Lender A handles higher loan amounts, suggesting varying risk appetites.\n",
        "   - **Monthly Gross Income:** Lenders show differences in income thresholds; Lender B prefers higher-income applicants, while Lender C is more flexible with lower-income ranges.\n",
        "\n",
        "2. **Predictive Variables for Specific Lenders:**\n",
        "   - **FICO Score:** Strongest predictor across all lenders. Higher scores lead to higher approval rates.\n",
        "   - **Loan Amount:** Strong predictor for some lenders, with preferences varying for small vs. large loans.\n",
        "   - **Monthly Gross Income:** Reliable predictor for approval likelihood, particularly when analyzed alongside loan size and FICO Score.\n",
        "\n"
      ],
      "metadata": {
        "id": "ty9hPcA8c0e8"
      }
    },
    {
      "cell_type": "markdown",
      "source": [
        "### **3.Optimizing Customer-Lender Matching to Maximize Revenue**\n",
        "\n",
        "**Steps:**\n",
        "1. Analyze lender payouts (`bounty`) and approval rates.\n",
        "2. Identify key customer groups (e.g., by FICO Score, Loan Amount, Income) and their alignment with lender preferences.\n",
        "3. Calculate incremental revenue if customers were matched to maximize revenue.\n"
      ],
      "metadata": {
        "id": "AZbcziv8nbWX"
      }
    },
    {
      "cell_type": "code",
      "source": [
        "# Analyze revenue and approval rates by lender\n",
        "lender_revenue = df.groupby('Lender').agg({\n",
        "    'bounty': 'mean',\n",
        "    'Approved': 'mean'\n",
        "}).reset_index()\n",
        "\n",
        "lender_revenue.columns = ['Lender', 'Average_Bounty', 'Approval_Rate']\n",
        "print(\"Lender Revenue and Approval Rates:\")\n",
        "print(lender_revenue)\n",
        "\n",
        "# Categorize FICO Scores\n",
        "fico_bins = [300, 579, 669, 739, 799, 850]  # Define FICO score ranges\n",
        "fico_labels = ['Poor', 'Fair', 'Good', 'Very Good', 'Excellent']  # Label categories\n",
        "df['FICO_Category'] = pd.cut(df['FICO_score'], bins=fico_bins, labels=fico_labels)\n",
        "\n",
        "# Calculate revenue and approval rates by FICO Category and Lender\n",
        "revenue_by_fico = df.groupby(['FICO_Category', 'Lender']).agg({\n",
        "    'bounty': 'mean',\n",
        "    'Approved': 'mean'\n",
        "}).reset_index()\n",
        "\n",
        "print(\"Revenue and Approval Rates by FICO Category and Lender:\")\n",
        "print(revenue_by_fico)\n",
        "\n",
        "# Identify the Optimal Lender for Each FICO Category\n",
        "\n",
        "max_revenue_lender = revenue_by_fico.loc[revenue_by_fico.groupby('FICO_Category')['bounty'].idxmax()]\n",
        "print(\"Optimal Lender for Each FICO Category (Maximizing Revenue):\")\n",
        "print(max_revenue_lender)\n",
        "\n",
        "# Visualize Revenue by FICO Category and Lender\n",
        "\n",
        "plt.figure(figsize=(10, 6))\n",
        "ax = sns.barplot(x='FICO_Category', y='bounty', hue='Lender', data=revenue_by_fico, palette='coolwarm')\n",
        "plt.title(\"Revenue by FICO Category and Lender\")\n",
        "plt.xlabel(\"FICO Score Category\")\n",
        "plt.ylabel(\"Average Bounty (Revenue)\")\n",
        "plt.legend(title=\"Lender\")\n",
        "for container in ax.containers:\n",
        "    ax.bar_label(container, fmt='%.2f')\n",
        "plt.show()\n"
      ],
      "metadata": {
        "id": "EXYmBsklnlC2"
      },
      "execution_count": null,
      "outputs": []
    },
    {
      "cell_type": "code",
      "source": [
        "print(approved_applications.duplicated().sum())"
      ],
      "metadata": {
        "id": "RRwdYkRzH0fl"
      },
      "execution_count": null,
      "outputs": []
    },
    {
      "cell_type": "code",
      "source": [],
      "metadata": {
        "id": "H6eavP6JH5Cj"
      },
      "execution_count": null,
      "outputs": []
    },
    {
      "cell_type": "markdown",
      "source": [
        "## Insights:\n",
        "\n",
        "- **Poor FICO Scores:** Customers align best with **Lender C**, maximizing revenue in this high-risk group.\n",
        "- **Fair FICO Scores:** Customers align best with **Lender C**, offering the highest payouts in this moderate-risk category.\n",
        "- **Good FICO Scores:** Customers align best with **Lender B**, generating higher revenue due to moderate-risk tolerance.\n",
        "- **Very Good to Excellent FICO Scores:** Customers align best with **Lender B**, offering the highest payouts for low-risk customers.\n"
      ],
      "metadata": {
        "id": "yu3ZPGmapFQD"
      }
    },
    {
      "cell_type": "code",
      "source": [
        "print(max_revenue_lender)"
      ],
      "metadata": {
        "id": "KyYKcHrGnCvl"
      },
      "execution_count": null,
      "outputs": []
    },
    {
      "cell_type": "code",
      "source": [
        "# Directly sum the bounty of approved applications\n",
        "current_revenue = df[df['Approved'] == 1]['bounty'].sum()\n",
        "\n",
        "# Calculate Total Revenue by Lender for Approved Applications\n",
        "approved_applications = df[df['Approved'] == 1]\n",
        "\n",
        "# Group by FICO category and lender, calculate total bounty\n",
        "total_bounty_by_lender = approved_applications.groupby(['FICO_Category', 'Lender']).agg({\n",
        "    'bounty': 'sum',  # Total bounty for each lender in each FICO category\n",
        "}).reset_index()\n",
        "\n",
        "# Find the Best Lender by Total Revenue for Each FICO Category\n",
        "best_lender_per_fico = total_bounty_by_lender.loc[\n",
        "    total_bounty_by_lender.groupby('FICO_Category')['bounty'].idxmax()\n",
        "]\n",
        "\n",
        "# Merge the Best Lender's Bounty with Approved Applications\n",
        "approved_applications = approved_applications.merge(\n",
        "    best_lender_per_fico[['FICO_Category', 'Lender', 'bounty']],\n",
        "    on=['FICO_Category', 'Lender'],\n",
        "    how='left',\n",
        "    suffixes=('', '_optimal')\n",
        ")\n",
        "\n",
        "# Calculate Optimal Revenue\n",
        "optimal_revenue = approved_applications['bounty_optimal'].sum()\n",
        "\n",
        "# Calculate Incremental Revenue\n",
        "incremental_revenue = optimal_revenue - current_revenue\n",
        "\n",
        "print(f\"Current Revenue: ${current_revenue:.2f}\")\n",
        "print(f\"Optimal Revenue: ${optimal_revenue:.2f}\")\n",
        "print(f\"Incremental Revenue: ${incremental_revenue:.2f}\")\n",
        "\n",
        "print(\"Best Lender by FICO Category:\")\n",
        "print(best_lender_per_fico)\n"
      ],
      "metadata": {
        "id": "CdRkLcY0r7Kr"
      },
      "execution_count": null,
      "outputs": []
    },
    {
      "cell_type": "code",
      "source": [
        "# Create Loan Amount Categories\n",
        "loan_bins = [5000, 20000, 50000, 100000]\n",
        "loan_labels = ['Small', 'Medium', 'Large']\n",
        "df['Loan_Category'] = pd.cut(df['Loan_Amount'], bins=loan_bins, labels=loan_labels)\n",
        "\n",
        "# Calculate revenue by Loan Amount and Lender\n",
        "revenue_by_loan = df.groupby(['Loan_Category', 'Lender']).agg({\n",
        "    'bounty': 'mean',\n",
        "    'Approved': 'mean'\n",
        "}).reset_index()\n",
        "\n",
        "print(\"Revenue and Approval Rates by Loan Amount and Lender:\")\n",
        "print(revenue_by_loan)\n",
        "\n",
        "# Visualization of Revenue by Loan Amount and Lender\n",
        "plt.figure(figsize=(10, 6))\n",
        "sns.barplot(x='Loan_Category', y='bounty', hue='Lender', data=revenue_by_loan, palette='coolwarm')\n",
        "plt.title(\"Revenue by Loan Amount and Lender\")\n",
        "plt.xlabel(\"Loan Category\")\n",
        "plt.ylabel(\"Average Revenue (Bounty)\")\n",
        "plt.legend(title=\"Lender\")\n",
        "plt.show()"
      ],
      "metadata": {
        "id": "RpJWy1xesEe5"
      },
      "execution_count": null,
      "outputs": []
    },
    {
      "cell_type": "markdown",
      "source": [
        "\n",
        "\n",
        "## **Customer-Lender Match Recommendations:**\n",
        "\n",
        "- **Small Loans:**  \n",
        "  - **Best Fit:** **Lender A or Lender C**  \n",
        "  - **Reason:** Lender A has the highest average bounty (`30.89`), followed closely by Lender C (`30.01`). Lender C also offers the highest approval rate (`20.0%`) for this category.\n",
        "\n",
        "- **Medium Loans:**  \n",
        "  - **Best Fit:** **Lender A**  \n",
        "  - **Reason:** Lender A leads with the highest average bounty (`27.57`) and a slightly higher approval rate (`11.0%`) compared to Lenders B and C.\n",
        "\n",
        "- **Large Loans:**  \n",
        "  - **Best Fit:** **Lender A**  \n",
        "  - **Reason:** Lender A generates the highest average bounty (`24.20`) and offers the best balance of revenue and approval rates.\n",
        "\n",
        "---\n",
        "\n",
        "## **Considerations for Real-Time Matching:**\n",
        "\n",
        "1. **Loan Size Alignment:** Ensure loan sizes match lender preferences to optimize revenue and approval rates.\n",
        "2. **Data Availability:** Regularly update customer profiles with accurate loan requests, income, and credit data.\n",
        "3. **Algorithm Scalability:** Implement scalable systems to handle large datasets and perform real-time matching.\n",
        "\n",
        "---\n"
      ],
      "metadata": {
        "id": "OFiGYovRsPZQ"
      }
    }
  ]
}